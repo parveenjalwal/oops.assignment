{
  "nbformat": 4,
  "nbformat_minor": 0,
  "metadata": {
    "colab": {
      "provenance": []
    },
    "kernelspec": {
      "name": "python3",
      "display_name": "Python 3"
    },
    "language_info": {
      "name": "python"
    }
  },
  "cells": [
    {
      "cell_type": "markdown",
      "source": [
        "# thoeritical qustion\n"
      ],
      "metadata": {
        "id": "xSh4N41jy039"
      }
    },
    {
      "cell_type": "markdown",
      "source": [
        "1. What is Object-Oriented Programming (OOP) ?\n",
        "   - oops = mean opbject orianted programing system . oops helps us to arrange  requried function respective to their classes . whenver we make any projects so mostly time we have multple calsses each and every classes contian sevrel function . in such cucumstaneses our methods get mexed . So here oops comes in handy to arrange them as well as acess them by their respetive class\n",
        "\n",
        "\n",
        "2.   What is a class in OOP ?\n",
        "   - class in oops = class is an a blueprint from creating any ojects from that perticuller class . class itself can have multiple function inside . tha very method are written inside classes can be accessed by its objects . property which class contain goes to its objects too .\n",
        "\n",
        "\n",
        "3.  What is an object in OOP ?\n",
        "   - objects = when class are defined having any mathods or any property which may contain logics usuelly . So in order to acess and exicute those method outside of class objects are used without objects we can not define class . instance - when we define any class along with objects that time objects get assosiated with class and have access of entire class method . to be clear objects are very essential part of classes in oops . In addition obejects even can modify the class methods attriutes .\n",
        "\n",
        "\n",
        "4. What is the difference between abstraction and encapsulation ?\n",
        "  - abstraction = basically abstraction mean hideing  any complex implimentation . enstance = in whatsapp the status / chatbox / profie page are only shown to us . but these things are made by big and intance codeing despite that all things are not visible to use > this is called abstraction . Mean not showing unncessery things and revealing only neccessry things . Absration is performed using (import abc ) it is nothing just a collection of function . abstraction classes can not be accessed in objects therofor abstract classes are passed in subclases these subclass can be accessed in objects , however subclass also only  contain those all abstract method . mean abstraction is a way to hide things from user\n",
        "\n",
        "  - encapsulation  - it has three parts access methods = private  /public / protected\n",
        "  1. public  - defined without any underscore . can be accessed and modifed outisde of the class using objects . therefor these public data are wiritten when we dont want to lutent any thing .  \n",
        "\n",
        "  2. private = private are defined by using double undersocre . these varibles neither can be accessed nor can be defined outside of the class . but these are accessed only inside the class by defining other method which containes these private data . if we have class having private data and which is being inherted in any subclass /derived class in such situation despite inheritation these private varriables can not be accessed . Not visible to user while calsses are being accessed by objects .\n",
        "\n",
        "  3. protected = these data are defined by single undersocre . the main speciality which makes it diffrent is protected not only can access and modify data inside the class but outside the class also . which makes it more usefull then private . these are by diffault not visible to user.\n",
        "\n",
        "  -  so hence is in encapsulation we have sevrel ways to  access and modified , which works diffrently to each other but on the other hand  abstraction mean hiding data properly .\n",
        "\n",
        "\n",
        "\n",
        "5.  What are dunder methods in Python ?\n",
        "   - dunder = methods which is passed in built in classes are called either dunder or magic/special method . Dunder methods are identified by double undersocre in the begning and in ending . elobration - whenver we use + , == ,to perform some operation  in such cases in python beckend somehwhere these __add__ , __eq__ are being excuted but apear us in the form of + / == in order to keep things easy to understend . these all are dunder method . some eg. __init__ , __str__ , __new__ ,__repr__ etc .\n",
        "\n",
        "\n",
        "\n",
        "6.  Explain the concept of inheritance in OOP ?\n",
        "     - inheritance = inheritance mean child /dreived class reciving the properties of parent class . To be clear  when we inherent any parent class inside child/derived class so that perticuller child class can not only access ite own property but also its parent class property .\n",
        "     types = single inheritence , multi-level inheritence , multiple inhertment , herarchical inheritence , hybrid inheritence .\n",
        "     - method overwirtting - it is also an cruical as well as commen part of inheritance . mean when any same method  is being replicated in parent and child class which is inheriting above parent class in this case if we define any object assosiating the child class and try to access that commen mathod so certianly the method stored inside derived class will be exicuted instead parent class method\n",
        "\n",
        "\n",
        "  \n",
        "7.  What is polymorphism in OOP ?\n",
        "   - polymorphism = mean any perticuller object which is taking sevral forms repect to its diffrent -diffrent classes is called polymorphism . for instance = lets take type() - here type function work is to check data type of any given data , reagardless how many data we are giveing . it will easly peroform its work on all given data . which is to check their data type - str, int, float , complex . Mean here type is taking sevrel form according to data . this is the core concept of polymorphism .\n",
        "\n",
        "\n",
        "\n",
        "8.   How is encapsulation achieved in Python ?\n",
        "   -  there are sevrel method to achive encapsulation in python . Access methods = public , private , protected . each and every data has its own advercities and disadversities . every ascpects has its own way to reach incapsulation\n",
        "\n",
        "   - public =here any data which is defined by public can be accessed and modified easily outside of the class by defining the class with object . it is the most easyeast method in incapsulatation . data is visible to user .\n",
        "\n",
        "   - private = here data is not visible outside of the class when deifned in private format . the very method which is written to access private method can be wirtten inside the class only not outside . mean private varible can not accessed to another class , not even when class is being inherited into subclass . this is the another way to reach incapsulation\n",
        "\n",
        "   - protected = it is diffrent from above both data mean here not only we can access and modify data inside class but to its subclass also . it is witten by single underscore . however it is also not visible to by objects but by definening into method can be accessed .\n",
        "   these are some aspects to reach incapsulation into python each and every has diffrent process and diffrent functionlity .\n",
        "\n",
        "\n",
        "9.  What is a constructor in Python ?\n",
        "   - constructer = contructer allows us to modify class and methods wihtout modifying their original code , makes our code more appropirate and saves time . working = first define any function normally or inside class which offen contain the pattern or design which we want , and that fuction takes function as an argument  . afterwards that perticuller on whom we want design to be applied , is assosiated with above mentioned method . so by doing this any pre deined method having any design can be applied on n number of method . it saves times and even doesn not touch the original code of individual method .\n",
        "\n",
        "\n",
        "10. What are class and static methods in Python ?\n",
        "    - class method = clss method is a way to access any methods of class without creating any object , however objects are assigned offten to exicute further task but its not neccessry . In class method we have to pass first permeter as a CLS instead SELF . Another importent thing is right above the method (@classmathod) text is written which is must to turn a normal method into class fuction . even we may say it is an replacement of init constructer method . In addition class mehtod can access and modify the state of class and instance . Class method directly refers to the class .\n",
        "\n",
        "    - staticmethod =  it is an simple method like genral method only (@staticmdthod ) is written above method to turn it into static method . neither it can modefy class and instace nor can accesss their state . it behave asif genral method.\n",
        "\n",
        "\n",
        "11.   What is method overloading in Python ?\n",
        "    - method overloading = mehtod overloading mean any method which overloads those rest all another method , and perform thier action itself despite being a single method only . for instance if we have three method in any given class and the 3rd method which is taking values of above two mehtod and defineing those above methods inside itself as well as selcting method which one should be exicuted mean here 3rd method is overloading above 1st and 2nd method . for instance classmethod  overloads the __init__ method .\n",
        "\n",
        "\n",
        "12. What is method overriding in OOP ?\n",
        "    - method overriding = A process where same method is being replicted in parsent class as well as in deriverd classes (inside these classes parent is being inherited ) it is called . IN such situations when we define any objects accessing the child  class and try to figure the commen method then method which is stored inside the child /derived class will certainly be exicuted dispite parsent class have same mathod . So in parent and in child class child class is always way way powerfull then parent .  \n",
        "\n",
        "\n",
        "13.  What is a property decorator in Python ?\n",
        "    - property decorators  = It allows us to access any method of class as an atribute . TO be clear mean when any mehtod is property method so while being accesed by class that perticuller method can be accessed wihtout any parenthisis (). which allows us to access them more easily .\n",
        "\n",
        "\n",
        "14.  Why is polymorphism important in OOP ?\n",
        "    - importance of polymorphism = definaton = when any object take sevrel form respect to diffrent - diffrent class which is called polymorphism .\n",
        "    - importance = 1. when any single object can perform same task over diffrent data in that we needless to write individual obeject for sperate data which saves out time .\n",
        "    2. it makes our code more easy to define and easy to write  .\n",
        "    3. polymorphism take places in two ways - method overloading , method overriding .\n",
        "    4.  here overloading help us to make our code shorter and same task can be performed by this short code too .\n",
        "\n",
        "\n",
        "\n",
        "15.  What is an abstract class in Python ?\n",
        "    - abstract class = it is basiclly part of abstraction . Method which is wirtten inside abstract class can not be accessed directly here we have to inhrent it into subclass afterwards we will be able to access it by objects . A subclass is always passed for abstract class . In abstract class method are only passed which does not get imploment , therfor here sublcass is responsible to get those method implimented . IN inherited abstract class any method is not present then while getting accessed it must not thorw error , despite unavilable .\n",
        "\n",
        "\n",
        "16.  What are the advantages of OOP ?\n",
        "    - advantages = while working on projects when we have multiple classes and even each and every classs contain methods/ functions .if fnctions are mixed then it might get difficult to acess them speratly therofor here oops cames in handy, make our work easier to arrange requred method respective to their classes .\n",
        "\n",
        "    2. here if we have defined any ( perticuller method logic) inside an class then we dont need to  redefine that code over and over we can  access that perticuller logic  by definning object with that class.\n",
        "\n",
        "   3. even in oops we have option to hide our data form user which is not possible in normal function , it works only when methods are defined inside class which is no doubt part of oops  .\n",
        "   4. Any kind of method can be decorated by decoraters oops wihtout modifying their actual code , can be applied on n numbrs of methods . which saves our time .\n",
        "   - these are the some commen any known levrages of oops\n",
        "\n",
        "\n",
        "17. What is the difference between a class variable and an instance variable ?\n",
        "    - class varribale = class varriable is deifned at class level . it is an varriable which is shared by the all instances of the class. this variable is not tied with any object , instead it belongs to the class itself .  mean all instances of the class shares the same value of the class unless it gets modified explicitly\n",
        "\n",
        "    - instance varrible - It is not like above class varriable . instance varriable are  difiened inside the method , most commenly inside constructer method . instance varrible is an varriable which belongs to the specific instance (objects ) of the class .\n",
        "\n",
        "\n",
        "18.  What is multiple inheritance in Python ?\n",
        "     - multiple inheritance = when any child/ derived class has two or more then two parent class is called multiple inheritence . in such senario the derived class can access the all methods / properties of those inherited class and its own properties too . here this derived class is much powerfull then its parent inhrited classes .\n",
        "\n",
        "\n",
        "\n",
        "19. Explain the purpose of ‘’__str__’ and ‘__repr__’ ‘ methods in Python ?\n",
        "     - __str__ = it return the string repersentation of objects . a object which is created at any memory location . it overloads the print statement of the object method .\n",
        "\n",
        "     - __repr __ = it repersent the class\n",
        "     ex = print(repr(obj1)) here print repr is repersentation of this obj1 object which is storing any class and its mehod inside\n",
        "\n",
        "\n",
        "20. What is the significance of the ‘super()’ function in Python ?\n",
        "   - super() = super() function is extancivlly used to access any protected data form parent inherted class to its subclass . mean when we are defining  any varriable in protected form and  then inherent that perticuller class to any subclass . so in order to access that protected varriable in this subclass from parent class  we typically use super() function . this is the usecase of super() method .\n",
        "\n",
        "\n",
        "21. What is the significance of the __del__ method in Python ?\n",
        "   - __del___ = it is an method which usully comes in handy to delete any mwthod of class . In order to exicute this del  method we have to define this method having same name the very method we are targeting . afterwards when we will call this method along with del keyword , out peticuller method will be deleted . so ultimalty this method is used to delete any method .\n",
        "\n",
        "\n",
        "22. What is the difference between @staticmethod and @classmethod in Python ?   \n",
        "    - classmethod = classmethod is written using cls as an first permeter instead self in the argument cell . classmethod can modify and access the state of class and instance . even classmethod overloads its above method which increase its usecase in industry . classmethod directly refer to the class therfor any method which is in classmethod form can be accessed by class name here needless to create any object for class sepcificly .\n",
        "    \n",
        "    - STATICMETHOD = it is totally opposite of classmethod . neither it can access the state of class and instance nor can modify . in static method neither LCS nor SELF is passed as an first parameter , instead here only arguement are passed which is usefull for further calculation . it does not overloads the above method asif classmathod . Mean it is asif normal genral function very simple to use   . it doesn not matches with classmathod anyhow .\n",
        "\n",
        "\n",
        "23.  How does polymorphism work in Python with inheritance ?\n",
        "    - inheritance = mean any child / derived class reciving property of its parent class is called inheritance .\n",
        "     - polymorphism  = here any objects taking sevrel forms respect to its diffrent diffrent classes .\n",
        "     - polymorphism in the context of inehritence , it allows  objects of diffrent diffrent classes to be treated as a commen  for bass class .This capability enables code that works with general base-class methods to seamlessly handle specialized subclass behavior. Any base or parent class deifine a method will be overriden by its subclasses\n",
        "\n",
        "\n",
        "25.  What is the purpose of the __call__ method in Python ?\n",
        "     - __call__ = this method is evoked when we call  obeject of any class as a method /function . ex = obj1 =car() here obj1 is an object of car class so when we will difine obj1() like this as an method format , call function will be evoked . it is an dunder method which gets exicuted  right after the __init__ function .\n",
        "\n",
        "\n",
        "     "
      ],
      "metadata": {
        "id": "6WArs1wqy5-K"
      }
    },
    {
      "cell_type": "markdown",
      "source": [
        "# coding / practical portion"
      ],
      "metadata": {
        "id": "CkLJHEHQKXGt"
      }
    },
    {
      "cell_type": "code",
      "source": [
        "# 1. Create a parent class Animal with a method speak() that prints a generic message. Create a child class Dog that overrides the speak() method to print \"Bark!\".\n",
        "\n",
        "class animal:\n",
        "  def speak():\n",
        "    print(\"this is an animal\")\n",
        "\n",
        "class dog(animal):\n",
        "  def speak():\n",
        "    print(\"bark\")\n",
        "\n",
        "d =dog\n",
        "d.speak() # here this d method which asosiated with dog class overrides the pseak method"
      ],
      "metadata": {
        "colab": {
          "base_uri": "https://localhost:8080/"
        },
        "id": "dnuJmV69KWlx",
        "outputId": "b7e3dbcb-53e0-4a58-adba-b34ea2e66aec"
      },
      "execution_count": null,
      "outputs": [
        {
          "output_type": "stream",
          "name": "stdout",
          "text": [
            "bark\n"
          ]
        }
      ]
    },
    {
      "cell_type": "code",
      "source": [
        "#2.  Write a program to create an abstract class Shape with a method area(). Derive classes Circle and Rectangle from it and implement the area() method in both.\n",
        "import abc\n",
        "\n",
        "class shape:\n",
        "\n",
        "  @abc.abstractmethod\n",
        "  def area (self):\n",
        "    pass\n",
        "\n",
        "class ractangle(shape):\n",
        "  def __init__(self,length,width):\n",
        "    self.length =length\n",
        "    self.width =width\n",
        "\n",
        "  def area (self):\n",
        "    return self.length * self.width\n",
        "\n",
        "\n",
        "class circle (shape):\n",
        "  def __init__(self,radius):\n",
        "    self.radius =radius\n",
        "\n",
        "  def area (self):\n",
        "    return 3.14 * self.radius ** 2\n"
      ],
      "metadata": {
        "id": "VaheztW9K_q7"
      },
      "execution_count": null,
      "outputs": []
    },
    {
      "cell_type": "code",
      "source": [
        "r1 =ractangle(12,11)"
      ],
      "metadata": {
        "id": "awpwhJgNLY8v"
      },
      "execution_count": null,
      "outputs": []
    },
    {
      "cell_type": "code",
      "source": [
        "r1.area() # area of ractangle"
      ],
      "metadata": {
        "colab": {
          "base_uri": "https://localhost:8080/"
        },
        "id": "fnyBrL8ULbQb",
        "outputId": "f81c5f3f-7f26-4376-8a04-9704fc89d19d"
      },
      "execution_count": null,
      "outputs": [
        {
          "output_type": "execute_result",
          "data": {
            "text/plain": [
              "132"
            ]
          },
          "metadata": {},
          "execution_count": 19
        }
      ]
    },
    {
      "cell_type": "code",
      "source": [
        "c1 =circle(15)"
      ],
      "metadata": {
        "id": "iCyNLgUELe1d"
      },
      "execution_count": null,
      "outputs": []
    },
    {
      "cell_type": "code",
      "source": [
        "c1.area() # area of circle"
      ],
      "metadata": {
        "colab": {
          "base_uri": "https://localhost:8080/"
        },
        "id": "9EZLIHBcLgFs",
        "outputId": "01b26c2d-2a41-4bb0-d086-5619889d25e0"
      },
      "execution_count": null,
      "outputs": [
        {
          "output_type": "execute_result",
          "data": {
            "text/plain": [
              "706.5"
            ]
          },
          "metadata": {},
          "execution_count": 23
        }
      ]
    },
    {
      "cell_type": "code",
      "source": [
        "# 3.  Implement a multi-level inheritance scenario where a class Vehicle has an attribute type. Derive a class Car and further derive a class ElectricCar that adds a battery attribute.\n",
        "\n",
        "class Vehicle:\n",
        "  def __init__(self,vehicle_type):\n",
        "    self.vehicle_type =vehicle_type\n",
        "\n",
        "  def display_vehicle (self):\n",
        "    return f\"sitting inside {self.vehicle_type}\"\n",
        "\n",
        "class car(Vehicle):\n",
        "  def __init__(self,vehicle_type,brand,):\n",
        "    super().__init__(vehicle_type) # accesing the above parent class contructor\n",
        "    self.brand =brand\n",
        "\n",
        "  def car_info (self):\n",
        "    return f\"setting inside {self.brand} car \"\n",
        "\n",
        "\n",
        "class electric_car(car):\n",
        "  def __init__(self,vehicle_type,brand,battry):\n",
        "    super().__init__(vehicle_type,brand)\n",
        "    self._battry =battry\n",
        "\n",
        "  def electric_car_info (self):\n",
        "    return f\"setting inside the electric car which has {self._battry} battry\""
      ],
      "metadata": {
        "id": "VOd8QOgHPFOx"
      },
      "execution_count": null,
      "outputs": []
    },
    {
      "cell_type": "code",
      "source": [
        "e1 =electric_car(\"car\",\"mg hector\",\"30KWH\") # here car is inheriting above all class methods using super class / object for electric car"
      ],
      "metadata": {
        "id": "hoJYFT1_Se6n"
      },
      "execution_count": null,
      "outputs": []
    },
    {
      "cell_type": "code",
      "source": [
        "e1.car_info()"
      ],
      "metadata": {
        "colab": {
          "base_uri": "https://localhost:8080/",
          "height": 36
        },
        "id": "fhp3pbF8S9R8",
        "outputId": "92e9a78f-ff85-4feb-b7e6-17f416a5fc46"
      },
      "execution_count": null,
      "outputs": [
        {
          "output_type": "execute_result",
          "data": {
            "text/plain": [
              "'setting inside mg hector car '"
            ],
            "application/vnd.google.colaboratory.intrinsic+json": {
              "type": "string"
            }
          },
          "metadata": {},
          "execution_count": 60
        }
      ]
    },
    {
      "cell_type": "code",
      "source": [
        "e1.display_vehicle()"
      ],
      "metadata": {
        "colab": {
          "base_uri": "https://localhost:8080/",
          "height": 36
        },
        "id": "bg8uaHwPTGcL",
        "outputId": "0452f0c3-5871-4d94-acad-f2868c3d330b"
      },
      "execution_count": null,
      "outputs": [
        {
          "output_type": "execute_result",
          "data": {
            "text/plain": [
              "'sitting inside car'"
            ],
            "application/vnd.google.colaboratory.intrinsic+json": {
              "type": "string"
            }
          },
          "metadata": {},
          "execution_count": 61
        }
      ]
    },
    {
      "cell_type": "code",
      "source": [
        "e1.electric_car_info()"
      ],
      "metadata": {
        "colab": {
          "base_uri": "https://localhost:8080/",
          "height": 36
        },
        "id": "4CIGqekETJHX",
        "outputId": "aaa1145c-f9b1-432e-a869-11531db69f91"
      },
      "execution_count": null,
      "outputs": [
        {
          "output_type": "execute_result",
          "data": {
            "text/plain": [
              "'setting inside the electric car which has 30KWH battry'"
            ],
            "application/vnd.google.colaboratory.intrinsic+json": {
              "type": "string"
            }
          },
          "metadata": {},
          "execution_count": 62
        }
      ]
    },
    {
      "cell_type": "code",
      "source": [
        "c1 =car(\"car\",\"breeza\")"
      ],
      "metadata": {
        "id": "z4OyO5pUUqLe"
      },
      "execution_count": null,
      "outputs": []
    },
    {
      "cell_type": "code",
      "source": [
        "c1.car_info() # object car"
      ],
      "metadata": {
        "colab": {
          "base_uri": "https://localhost:8080/",
          "height": 36
        },
        "id": "mo5hN4JVX4wd",
        "outputId": "11f97b4f-f669-4fc2-fd8f-e0ff2db56769"
      },
      "execution_count": null,
      "outputs": [
        {
          "output_type": "execute_result",
          "data": {
            "text/plain": [
              "'setting inside breeza car '"
            ],
            "application/vnd.google.colaboratory.intrinsic+json": {
              "type": "string"
            }
          },
          "metadata": {},
          "execution_count": 64
        }
      ]
    },
    {
      "cell_type": "code",
      "source": [
        "c1.display_vehicle()"
      ],
      "metadata": {
        "colab": {
          "base_uri": "https://localhost:8080/",
          "height": 36
        },
        "id": "rJ6ET5wGX7_z",
        "outputId": "c9f03fd6-2ff2-4efb-e064-3b84070605f5"
      },
      "execution_count": null,
      "outputs": [
        {
          "output_type": "execute_result",
          "data": {
            "text/plain": [
              "'sitting inside car'"
            ],
            "application/vnd.google.colaboratory.intrinsic+json": {
              "type": "string"
            }
          },
          "metadata": {},
          "execution_count": 65
        }
      ]
    },
    {
      "cell_type": "code",
      "source": [
        "# 4.  Implement a multi-level inheritance scenario where a class Vehicle has an attribute type. Derive a class Car and further derive a class ElectricCar that adds a battery attribute.\n",
        "\n",
        "class Vehicle:\n",
        "  def __init__(self,vehicle_type):\n",
        "    self.vehicle_type =vehicle_type\n",
        "\n",
        "  def display_vehicle (self):\n",
        "    return f\"sitting inside {self.vehicle_type}\"\n",
        "\n",
        "class car(Vehicle):\n",
        "  def __init__(self,vehicle_type,brand,):\n",
        "    super().__init__(vehicle_type) # accesing the above parent class contructor\n",
        "    self.brand =brand\n",
        "\n",
        "  def car_info (self):\n",
        "    return f\"setting inside {self.brand} car \"\n",
        "\n",
        "\n",
        "class electric_car(car):\n",
        "  def __init__(self,vehicle_type,brand,battry):\n",
        "    super().__init__(vehicle_type,brand)\n",
        "    self._battry =battry\n",
        "\n",
        "  def electric_car_info (self):\n",
        "    return f\"setting inside the electric car which has {self._battry} battry\""
      ],
      "metadata": {
        "id": "VMhxnJk-X-Mv"
      },
      "execution_count": null,
      "outputs": []
    },
    {
      "cell_type": "code",
      "source": [
        "# 5.  Write a program to demonstrate encapsulation by creating a class BankAccount with private attributes balance and methods to deposit, withdraw, and check balance ?\n",
        "class bank_account:\n",
        "  def __init__(self,balance):\n",
        "    self.__balance =balance # private balance\n",
        "\n",
        "\n",
        "  def deposit (self,money):\n",
        "    if money >= 500:\n",
        "      self.__balance = self.__balance + money # assignment operator\n",
        "      return True # to keep balance hide\n",
        "    else:\n",
        "      return f\"you can not deposit money beacuse your amount {money} is less then requred amount 500\"\n",
        "\n",
        "  def withdraw (self,money):\n",
        "    if money < self.__balance:\n",
        "      self.__balance = self.__balance - money # assignment operator\n",
        "      return True # to keep balance hide\n",
        "    else:\n",
        "      return f\"insuffciant funds\"\n",
        "\n",
        "  def check_balance (self):\n",
        "    return self.__balance"
      ],
      "metadata": {
        "id": "Dmz4ZAAXYWYT"
      },
      "execution_count": null,
      "outputs": []
    },
    {
      "cell_type": "code",
      "source": [
        "parveen =bank_account(5000)\n"
      ],
      "metadata": {
        "id": "xz1la24jbxTW"
      },
      "execution_count": null,
      "outputs": []
    },
    {
      "cell_type": "code",
      "source": [
        "parveen.deposit(300)"
      ],
      "metadata": {
        "colab": {
          "base_uri": "https://localhost:8080/",
          "height": 36
        },
        "id": "-Y35931gcKFX",
        "outputId": "10c45a05-8474-46f0-9557-e142101d38c4"
      },
      "execution_count": null,
      "outputs": [
        {
          "output_type": "execute_result",
          "data": {
            "text/plain": [
              "'you can not deposit money beacuse your amount 300 is less then requred amount 500'"
            ],
            "application/vnd.google.colaboratory.intrinsic+json": {
              "type": "string"
            }
          },
          "metadata": {},
          "execution_count": 68
        }
      ]
    },
    {
      "cell_type": "code",
      "source": [
        "parveen.deposit(3800)"
      ],
      "metadata": {
        "colab": {
          "base_uri": "https://localhost:8080/"
        },
        "id": "o1RdPyE7cOW2",
        "outputId": "68e445da-9f16-443f-fefb-d989f2ccca0e"
      },
      "execution_count": null,
      "outputs": [
        {
          "output_type": "execute_result",
          "data": {
            "text/plain": [
              "True"
            ]
          },
          "metadata": {},
          "execution_count": 69
        }
      ]
    },
    {
      "cell_type": "code",
      "source": [
        "parveen.check_balance() # amount after deposit"
      ],
      "metadata": {
        "colab": {
          "base_uri": "https://localhost:8080/"
        },
        "id": "eQdqvsZVcSRA",
        "outputId": "c0ee03ca-3735-41c9-e7ca-950a82f5612a"
      },
      "execution_count": null,
      "outputs": [
        {
          "output_type": "execute_result",
          "data": {
            "text/plain": [
              "8800"
            ]
          },
          "metadata": {},
          "execution_count": 70
        }
      ]
    },
    {
      "cell_type": "code",
      "source": [
        "parveen.withdraw(9500)"
      ],
      "metadata": {
        "colab": {
          "base_uri": "https://localhost:8080/",
          "height": 36
        },
        "id": "nwe3-92NcVFF",
        "outputId": "587c80e1-8529-4794-bb20-74e0b3b217f7"
      },
      "execution_count": null,
      "outputs": [
        {
          "output_type": "execute_result",
          "data": {
            "text/plain": [
              "'insuffciant funds'"
            ],
            "application/vnd.google.colaboratory.intrinsic+json": {
              "type": "string"
            }
          },
          "metadata": {},
          "execution_count": 72
        }
      ]
    },
    {
      "cell_type": "code",
      "source": [
        "parveen.withdraw(3420)"
      ],
      "metadata": {
        "colab": {
          "base_uri": "https://localhost:8080/"
        },
        "id": "m00ZWEGbciEa",
        "outputId": "326a4130-c274-4cbf-e5d4-5e83c80c3fa9"
      },
      "execution_count": null,
      "outputs": [
        {
          "output_type": "execute_result",
          "data": {
            "text/plain": [
              "True"
            ]
          },
          "metadata": {},
          "execution_count": 73
        }
      ]
    },
    {
      "cell_type": "code",
      "source": [
        "parveen.check_balance() # amount after withdraw"
      ],
      "metadata": {
        "colab": {
          "base_uri": "https://localhost:8080/"
        },
        "id": "ekMG4KRjchIm",
        "outputId": "82c5a5ca-2abc-4b58-d810-cc6eb788027f"
      },
      "execution_count": null,
      "outputs": [
        {
          "output_type": "execute_result",
          "data": {
            "text/plain": [
              "5380"
            ]
          },
          "metadata": {},
          "execution_count": 74
        }
      ]
    },
    {
      "cell_type": "code",
      "source": [
        "#6.  Demonstrate runtime polymorphism using a method play() in a base class Instrument. Derive classes Guitar and Piano that implement their own version of play().\n",
        "\n",
        "class Instrument:\n",
        "    def play(self):\n",
        "        print(\"Playing an instrument.\")\n",
        "\n",
        "class Guitar(Instrument):\n",
        "    def play(self):\n",
        "        print(\"Strumming the guitar strings!\")\n",
        "\n",
        "class Piano(Instrument):\n",
        "    def play(self):\n",
        "        print(\"Pressing the piano keys to create music!\")\n",
        "\n",
        "# Demonstrating runtime polymorphism\n",
        "def play_instrument(instrument):\n",
        "    instrument.play()\n",
        "\n"
      ],
      "metadata": {
        "id": "7ioX6DSWcqRi"
      },
      "execution_count": null,
      "outputs": []
    },
    {
      "cell_type": "code",
      "source": [
        "guiter =Guitar()"
      ],
      "metadata": {
        "id": "zUQUaFCgeYKI"
      },
      "execution_count": null,
      "outputs": []
    },
    {
      "cell_type": "code",
      "source": [
        "piano =Piano()"
      ],
      "metadata": {
        "id": "MSyqe0eTgeoZ"
      },
      "execution_count": null,
      "outputs": []
    },
    {
      "cell_type": "code",
      "source": [
        "play_instrument(guiter)"
      ],
      "metadata": {
        "colab": {
          "base_uri": "https://localhost:8080/"
        },
        "id": "ExBmUdfJgkY3",
        "outputId": "393a0a80-e69c-4f10-824c-854736166d42"
      },
      "execution_count": null,
      "outputs": [
        {
          "output_type": "stream",
          "name": "stdout",
          "text": [
            "Strumming the guitar strings!\n"
          ]
        }
      ]
    },
    {
      "cell_type": "code",
      "source": [
        "play_instrument(piano)"
      ],
      "metadata": {
        "colab": {
          "base_uri": "https://localhost:8080/"
        },
        "id": "N8Z6ZSaMgmUy",
        "outputId": "a330eb40-ddba-4349-9c6f-65fa7f268ece"
      },
      "execution_count": null,
      "outputs": [
        {
          "output_type": "stream",
          "name": "stdout",
          "text": [
            "Pressing the piano keys to create music!\n"
          ]
        }
      ]
    },
    {
      "cell_type": "code",
      "source": [
        "\n",
        "# 7.  Create a class MathOperations with a class method add_numbers() to add two numbers and a static method subtract_numbers() to subtract two numbers ?\n",
        "class MathOperations:\n",
        "\n",
        "  @classmethod\n",
        "  def add_numbers (cls,a,b):\n",
        "    return a + b\n",
        "\n",
        "  @staticmethod\n",
        "  def subtract_numbers(a,b):\n",
        "    return a - b"
      ],
      "metadata": {
        "id": "iRRGQUc6gvPr"
      },
      "execution_count": 11,
      "outputs": []
    },
    {
      "cell_type": "code",
      "source": [
        "MathOperations.add_numbers(13,13) # accessing directly using classmethod no object"
      ],
      "metadata": {
        "id": "4hdVlL3VlUkn",
        "colab": {
          "base_uri": "https://localhost:8080/"
        },
        "outputId": "2500c0ef-ae94-40c3-b31b-d86ac24d7592"
      },
      "execution_count": 13,
      "outputs": [
        {
          "output_type": "execute_result",
          "data": {
            "text/plain": [
              "26"
            ]
          },
          "metadata": {},
          "execution_count": 13
        }
      ]
    },
    {
      "cell_type": "code",
      "source": [
        "MathOperations.subtract_numbers(10,5) # acessing directly using staticmethod object\n"
      ],
      "metadata": {
        "id": "WXHcbP_Tlbwn",
        "colab": {
          "base_uri": "https://localhost:8080/"
        },
        "outputId": "4e402acc-c25b-42eb-f1b4-e3cf4d9bc3ff"
      },
      "execution_count": 14,
      "outputs": [
        {
          "output_type": "execute_result",
          "data": {
            "text/plain": [
              "5"
            ]
          },
          "metadata": {},
          "execution_count": 14
        }
      ]
    },
    {
      "cell_type": "code",
      "source": [
        "# 8 . Implement a class Person with a class method to count the total number of persons created ?\n",
        "class person:\n",
        "  count =0 #class varriable\n",
        "  def __init__(self,name):\n",
        "    self.name =name\n",
        "\n",
        "  @classmethod\n",
        "  def total_numbers (self):\n",
        "    person.count =person.count + 1\n",
        "    return person.count\n"
      ],
      "metadata": {
        "id": "m6ZnvFNDllHy"
      },
      "execution_count": 22,
      "outputs": []
    },
    {
      "cell_type": "code",
      "source": [
        "person.count # class varriable\n"
      ],
      "metadata": {
        "colab": {
          "base_uri": "https://localhost:8080/"
        },
        "id": "uH6PIBSKnTzz",
        "outputId": "8b10bb27-6c2a-43af-aa01-3b487bef2ade"
      },
      "execution_count": 32,
      "outputs": [
        {
          "output_type": "execute_result",
          "data": {
            "text/plain": [
              "2"
            ]
          },
          "metadata": {},
          "execution_count": 32
        }
      ]
    },
    {
      "cell_type": "code",
      "source": [
        "a1 =person(\"parveen\")"
      ],
      "metadata": {
        "id": "M_NwxrLqna3Y"
      },
      "execution_count": 29,
      "outputs": []
    },
    {
      "cell_type": "code",
      "source": [
        "a2 =person(\"aman\")"
      ],
      "metadata": {
        "id": "kKiIEK55o1H6"
      },
      "execution_count": 30,
      "outputs": []
    },
    {
      "cell_type": "code",
      "source": [
        "person.total_numbers() # here our count class varriable is counting the number of class being exicuted"
      ],
      "metadata": {
        "colab": {
          "base_uri": "https://localhost:8080/"
        },
        "id": "iHtojxOXA-HC",
        "outputId": "96cc1b0a-d2fb-4f40-d010-e80b434e4b36"
      },
      "execution_count": 31,
      "outputs": [
        {
          "output_type": "execute_result",
          "data": {
            "text/plain": [
              "2"
            ]
          },
          "metadata": {},
          "execution_count": 31
        }
      ]
    },
    {
      "cell_type": "code",
      "source": [
        "# 9.  Write a class Fraction with attributes numerator and denominator. Override the str method to display the fraction as \"numerator/denominator\" ?\n",
        "class fraction:\n",
        "  def __init__(self, numerator,denominator):\n",
        "    self.numerator =numerator\n",
        "    self.denominator =denominator\n",
        "\n",
        "  def __str__(self):\n",
        "    return f\"this is frist fraction :{self.numerator} , and this one is second fraction : {self.denominator} \"\n",
        "\n",
        "f=fraction(\"1\",\"2\")\n",
        "print(f)"
      ],
      "metadata": {
        "colab": {
          "base_uri": "https://localhost:8080/"
        },
        "id": "mpCGF9CnA_pZ",
        "outputId": "5cd4a10f-0b26-482c-fb13-9c68aa2853c4"
      },
      "execution_count": 43,
      "outputs": [
        {
          "output_type": "stream",
          "name": "stdout",
          "text": [
            "this is frist fraction :1 , and this one is second fraction : 2 \n"
          ]
        }
      ]
    },
    {
      "cell_type": "code",
      "source": [
        "# 10.  Demonstrate operator overloading by creating a class Vector and overriding the add method to add two vectors ?\n",
        "class vector:\n",
        "  def __init__(self,x,y,z):\n",
        "    self.x =x\n",
        "    self.y =y\n",
        "    self.z =z\n",
        "\n",
        "  def __add__(self,other):  # add dunder method\n",
        "    return  self.x + other.x , self.y + other.y , self.z + other.z"
      ],
      "metadata": {
        "id": "44bkxf8RC06e"
      },
      "execution_count": 47,
      "outputs": []
    },
    {
      "cell_type": "code",
      "source": [
        "v1 =vector(5,8,9) # instances for vector class\n",
        "v2 =vector(3,7,11)\n",
        "v3 =v1 + v2  # applying add method\n",
        "print(v3)"
      ],
      "metadata": {
        "colab": {
          "base_uri": "https://localhost:8080/"
        },
        "id": "1ByphQvEEZOo",
        "outputId": "c8285437-e9fd-4419-cf67-8cf2bfc34b6d"
      },
      "execution_count": 49,
      "outputs": [
        {
          "output_type": "stream",
          "name": "stdout",
          "text": [
            "(8, 15, 20)\n"
          ]
        }
      ]
    },
    {
      "cell_type": "code",
      "source": [
        "# 11. Create a class Person with attributes name and age. Add a method greet() that prints \"Hello, my name i {name} and I am {age} years old ?\n",
        "class person:\n",
        "  def __init__(self,name,age):\n",
        "    self.name =name\n",
        "    self.age =age\n",
        "\n",
        "  def greet (self):\n",
        "    return f\"hello my name is: {self.name} and i am: {self.age} years old\""
      ],
      "metadata": {
        "id": "Pt8ZSEAWFCKC"
      },
      "execution_count": 53,
      "outputs": []
    },
    {
      "cell_type": "code",
      "source": [
        "p1 =person(\"parveen\",20)"
      ],
      "metadata": {
        "id": "mtBAx5z-LOjl"
      },
      "execution_count": 55,
      "outputs": []
    },
    {
      "cell_type": "code",
      "source": [
        "p1.greet()"
      ],
      "metadata": {
        "colab": {
          "base_uri": "https://localhost:8080/",
          "height": 36
        },
        "id": "yXuRe54YLTFE",
        "outputId": "64e90a3f-6fa8-48fa-e0ce-62f749daeff1"
      },
      "execution_count": 56,
      "outputs": [
        {
          "output_type": "execute_result",
          "data": {
            "text/plain": [
              "'hello my name is: parveen and i am: 20 years old'"
            ],
            "application/vnd.google.colaboratory.intrinsic+json": {
              "type": "string"
            }
          },
          "metadata": {},
          "execution_count": 56
        }
      ]
    },
    {
      "cell_type": "code",
      "source": [
        "# 12. Implement a class Student with attributes name and grades. Create a method average_grade() to compute the average of the grades ?\n",
        "class student:\n",
        "  def __init__(self,name,g1,g2,g3):\n",
        "    self.name =name\n",
        "    self.g1 =g1\n",
        "    self.g2 =g2\n",
        "    self.g3 =g3\n",
        "\n",
        "  def avarage_grade (self):\n",
        "    return (self.g1  + self.g2 + self.g3)  / 3\n",
        "\n",
        "s =student (\"manish\",4,2,1)\n",
        "s1 =student(\"parveen\",5,3,4)\n",
        "s.avarage_grade() # average grade"
      ],
      "metadata": {
        "colab": {
          "base_uri": "https://localhost:8080/"
        },
        "id": "w88qLJ9TLW1a",
        "outputId": "c3123cd1-85aa-4e77-a2ca-eb9e1fc1f6aa"
      },
      "execution_count": 76,
      "outputs": [
        {
          "output_type": "execute_result",
          "data": {
            "text/plain": [
              "2.3333333333333335"
            ]
          },
          "metadata": {},
          "execution_count": 76
        }
      ]
    },
    {
      "cell_type": "code",
      "source": [
        "s1.avarage_grade() # 4 IS avrage grade"
      ],
      "metadata": {
        "colab": {
          "base_uri": "https://localhost:8080/"
        },
        "id": "xs7mUatyMoCf",
        "outputId": "89b15c35-4487-4145-dd41-fed26fd68ffa"
      },
      "execution_count": 77,
      "outputs": [
        {
          "output_type": "execute_result",
          "data": {
            "text/plain": [
              "4.0"
            ]
          },
          "metadata": {},
          "execution_count": 77
        }
      ]
    },
    {
      "cell_type": "code",
      "source": [
        "# 13 = Create a class Rectangle with methods set_dimensions() to set the dimensions and area() to calculate the area ?\n",
        "\n",
        "class ractangle1:\n",
        "  def __init__(self,length,width):\n",
        "    self.length =length\n",
        "    self.width =width\n",
        "\n",
        "  def area(self):\n",
        "    return self.length * self.width\n"
      ],
      "metadata": {
        "id": "XZ67d6MaUuiL"
      },
      "execution_count": 95,
      "outputs": []
    },
    {
      "cell_type": "code",
      "source": [
        "rr =ractangle1(15,13)"
      ],
      "metadata": {
        "id": "c6bkl4JhWLAU"
      },
      "execution_count": 93,
      "outputs": []
    },
    {
      "cell_type": "code",
      "source": [
        "rr.area()"
      ],
      "metadata": {
        "colab": {
          "base_uri": "https://localhost:8080/"
        },
        "id": "TPIT__0_WT3l",
        "outputId": "3ff7e8eb-8742-42f9-b749-8a309d93ca19"
      },
      "execution_count": 94,
      "outputs": [
        {
          "output_type": "execute_result",
          "data": {
            "text/plain": [
              "195"
            ]
          },
          "metadata": {},
          "execution_count": 94
        }
      ]
    },
    {
      "cell_type": "code",
      "source": [
        "# 14 .Create a class Employee with a method calculate_salary() that computes the salary based on hours worked and hourly rate. Create a derived class Manager that adds a bonus to the salary.\n",
        "class Employee:\n",
        "  def __init__(self,salary): # annual salary\n",
        "    self.salary =salary\n",
        "\n",
        "  def calculate_salary(self,weeks,worked_hours):\n",
        "    hourly_rate =self.salary / (weeks * worked_hours) # weeks and #worked hours in every week\n",
        "    return hourly_rate   # it shows hourly rate\n",
        "\n",
        "class manager(Employee):\n",
        "  def __init__(self,salary,bonous):\n",
        "    super().__init__(salary)\n",
        "    self.bonous =bonous\n",
        "\n",
        "  def final_salary (self): # final salary for manager\n",
        "    self.salary =self.salary + self.bonous\n",
        "    return self.salary\n",
        "\n",
        "  def calculate_salary(self,weeks,worked_hours):\n",
        "    hourly_rate =self.salary / (weeks * worked_hours) # weeks and #worked hours in every week\n",
        "    return hourly_rate   # it shows hourly rate"
      ],
      "metadata": {
        "id": "FpVm4AC6WXJG"
      },
      "execution_count": 155,
      "outputs": []
    },
    {
      "cell_type": "code",
      "source": [
        "e2 =Employee(1200000)\n",
        "e2.calculate_salary(46,40)"
      ],
      "metadata": {
        "colab": {
          "base_uri": "https://localhost:8080/"
        },
        "id": "ys5vcNXXcmwI",
        "outputId": "f09afc5f-0ec2-4e65-cd50-5a75b912679a"
      },
      "execution_count": 156,
      "outputs": [
        {
          "output_type": "execute_result",
          "data": {
            "text/plain": [
              "652.1739130434783"
            ]
          },
          "metadata": {},
          "execution_count": 156
        }
      ]
    },
    {
      "cell_type": "code",
      "source": [
        "mn =manager(4000000 ,50000)\n",
        "mn.final_salary()\n",
        "mn.calculate_salary(44,40) # total weeks , working hours in a week"
      ],
      "metadata": {
        "colab": {
          "base_uri": "https://localhost:8080/"
        },
        "id": "E7dP3pdBlRsG",
        "outputId": "f08e26ab-534f-44ee-9d71-d955d2cdba14"
      },
      "execution_count": 158,
      "outputs": [
        {
          "output_type": "execute_result",
          "data": {
            "text/plain": [
              "2301.1363636363635"
            ]
          },
          "metadata": {},
          "execution_count": 158
        }
      ]
    },
    {
      "cell_type": "code",
      "source": [
        "# 15. Create a class Product with attributes name, price, and quantity. Implement a method total_price() that calculates the total price of the product.\n",
        "class product:\n",
        "  def __init__(self,name,price,quantity):\n",
        "    self.name =name\n",
        "    self.price =price\n",
        "    self.quantity =quantity\n",
        "\n",
        "  def total_price(self):\n",
        "    return f\"product: {self.name} after quantity of: {self.quantity} its total price is:  {self.price * self.quantity}\"\n",
        "\n",
        "p1 =product(\"phones\",45000,5)\n",
        "p1.total_price()"
      ],
      "metadata": {
        "colab": {
          "base_uri": "https://localhost:8080/",
          "height": 36
        },
        "id": "7WtkiIUMlj2u",
        "outputId": "bfbfbca9-8dfc-4035-8f1c-c017f2cbc478"
      },
      "execution_count": 170,
      "outputs": [
        {
          "output_type": "execute_result",
          "data": {
            "text/plain": [
              "'product: phones after quantity of: 5 its total price is:  225000'"
            ],
            "application/vnd.google.colaboratory.intrinsic+json": {
              "type": "string"
            }
          },
          "metadata": {},
          "execution_count": 170
        }
      ]
    },
    {
      "cell_type": "code",
      "source": [
        "# 16.  Create a class Animal with an abstract method sound(). Create two derived classes Cow and Sheep that implement the sound() method ?\n",
        "\n",
        "class animal: # parent class\n",
        "  def sound():\n",
        "    print(\"animal sound\")\n",
        "\n",
        "class cow(animal): # child/ dervied class\n",
        "  def sound():\n",
        "    print(\"its cow sound\")\n",
        "\n",
        "class sheep(animal): # child/ dervied class\n",
        "  def sound():\n",
        "    print(\"its sheep sound\")\n",
        "\n",
        "# implimeting polymorphism here for some advanement\n",
        "def sound_check(animal):\n",
        "  animal.sound()"
      ],
      "metadata": {
        "id": "rQHNW7cpvhdr"
      },
      "execution_count": 176,
      "outputs": []
    },
    {
      "cell_type": "code",
      "source": [
        "c1 =cow\n",
        "c1.sound()"
      ],
      "metadata": {
        "colab": {
          "base_uri": "https://localhost:8080/"
        },
        "id": "wylS4m5tvn7F",
        "outputId": "277c41b9-c6ac-4b04-aa11-9b8401fe5197"
      },
      "execution_count": 177,
      "outputs": [
        {
          "output_type": "stream",
          "name": "stdout",
          "text": [
            "its cow sound\n"
          ]
        }
      ]
    },
    {
      "cell_type": "code",
      "source": [
        "s1 =sheep\n",
        "s1.sound()"
      ],
      "metadata": {
        "colab": {
          "base_uri": "https://localhost:8080/"
        },
        "id": "4PK8DM3FvtTF",
        "outputId": "3e8c7b08-b943-4aa0-bc20-52e8a67fb8bf"
      },
      "execution_count": 178,
      "outputs": [
        {
          "output_type": "stream",
          "name": "stdout",
          "text": [
            "its sheep sound\n"
          ]
        }
      ]
    },
    {
      "cell_type": "code",
      "source": [
        "sound_check(c1)"
      ],
      "metadata": {
        "colab": {
          "base_uri": "https://localhost:8080/"
        },
        "id": "81QHqPUAyIuJ",
        "outputId": "0c5a9fa8-bc93-4549-bf90-d9de640a48e9"
      },
      "execution_count": 179,
      "outputs": [
        {
          "output_type": "stream",
          "name": "stdout",
          "text": [
            "its cow sound\n"
          ]
        }
      ]
    },
    {
      "cell_type": "code",
      "source": [
        "sound_check(s1)"
      ],
      "metadata": {
        "colab": {
          "base_uri": "https://localhost:8080/"
        },
        "id": "W_7UqKayzcSg",
        "outputId": "a730cb65-511c-49b8-8a72-30ad7c4eb199"
      },
      "execution_count": 180,
      "outputs": [
        {
          "output_type": "stream",
          "name": "stdout",
          "text": [
            "its sheep sound\n"
          ]
        }
      ]
    },
    {
      "cell_type": "code",
      "source": [
        "# 17. Create a class Book with attributes title, author, and year_published. Add a method get_book_info() that returns a formatted string with the book's details ?\n",
        "class book:\n",
        "  def __init__(self,title,auther,published_year):\n",
        "    self.title =title\n",
        "    self.auther =auther\n",
        "    self.published_year =published_year\n",
        "\n",
        "  def book_details (self):\n",
        "    return f\"book: {self.title} wirtten by: {self.auther} has been published in: {self.published_year}\"\n"
      ],
      "metadata": {
        "id": "Vp8pYRh6zgt7"
      },
      "execution_count": 184,
      "outputs": []
    },
    {
      "cell_type": "code",
      "source": [
        "b1 =book(\"deep work\",\"cal newphort\",2016)"
      ],
      "metadata": {
        "id": "z9AWJeuF1imK"
      },
      "execution_count": 185,
      "outputs": []
    },
    {
      "cell_type": "code",
      "source": [
        "b2 =book(\"how to think like monk\",\"jay shatty\",2017)"
      ],
      "metadata": {
        "id": "MRatexg31ufh"
      },
      "execution_count": 186,
      "outputs": []
    },
    {
      "cell_type": "code",
      "source": [
        "b1.book_details()"
      ],
      "metadata": {
        "colab": {
          "base_uri": "https://localhost:8080/",
          "height": 36
        },
        "id": "e364jUOv130e",
        "outputId": "156456ac-404e-4a03-f53b-c5ca37b8e575"
      },
      "execution_count": 187,
      "outputs": [
        {
          "output_type": "execute_result",
          "data": {
            "text/plain": [
              "'book: deep work wirtten by: cal newphort has been published in: 2016'"
            ],
            "application/vnd.google.colaboratory.intrinsic+json": {
              "type": "string"
            }
          },
          "metadata": {},
          "execution_count": 187
        }
      ]
    },
    {
      "cell_type": "code",
      "source": [
        "b2.book_details()"
      ],
      "metadata": {
        "colab": {
          "base_uri": "https://localhost:8080/",
          "height": 36
        },
        "id": "XZYLb1ka2Adv",
        "outputId": "a1a1e300-50d5-4de9-f158-1683f33fe431"
      },
      "execution_count": 188,
      "outputs": [
        {
          "output_type": "execute_result",
          "data": {
            "text/plain": [
              "'book: how to think like monk wirtten by: jay shatty has been published in: 2017'"
            ],
            "application/vnd.google.colaboratory.intrinsic+json": {
              "type": "string"
            }
          },
          "metadata": {},
          "execution_count": 188
        }
      ]
    },
    {
      "cell_type": "code",
      "source": [
        "#18. Create a class House with attributes address and price. Create a derived class Mansion that adds an attribute number_of_rooms ?\n",
        "class house:\n",
        "  def __init__(self,address,price):\n",
        "    self.address =address\n",
        "    self.price =price\n",
        "\n",
        "class Mansion(house):\n",
        "  def __init__(self,address,price,numberof_room):\n",
        "    super().__init__(address,price) # accessing above detials\n",
        "    self.rooms = numberof_room\n",
        "\n",
        "  def display (self):\n",
        "    return f'house address is: {self.address} and its price is: {self.price} which has  {self.rooms} rooms'\n"
      ],
      "metadata": {
        "id": "k6zUNUhq2C9P"
      },
      "execution_count": 218,
      "outputs": []
    },
    {
      "cell_type": "code",
      "source": [
        "h1 =house(\"read squre,hisar (haryana)\",500000)"
      ],
      "metadata": {
        "id": "YxWWDXH98aMG"
      },
      "execution_count": 219,
      "outputs": []
    },
    {
      "cell_type": "code",
      "source": [
        "m1 =Mansion(\"read squre,hisar (haryana)\",500000,5)"
      ],
      "metadata": {
        "id": "I2A_ySTj6Adl"
      },
      "execution_count": 220,
      "outputs": []
    },
    {
      "cell_type": "code",
      "source": [
        "m1.display()"
      ],
      "metadata": {
        "colab": {
          "base_uri": "https://localhost:8080/",
          "height": 36
        },
        "id": "XYHNUb0n8XCm",
        "outputId": "4fd72769-13c4-4c82-82d1-fac06787ee9c"
      },
      "execution_count": 221,
      "outputs": [
        {
          "output_type": "execute_result",
          "data": {
            "text/plain": [
              "'house address is: read squre,hisar (haryana) and its price is: 500000 which has  5 rooms'"
            ],
            "application/vnd.google.colaboratory.intrinsic+json": {
              "type": "string"
            }
          },
          "metadata": {},
          "execution_count": 221
        }
      ]
    },
    {
      "cell_type": "code",
      "source": [],
      "metadata": {
        "id": "syvb5aus8u7w"
      },
      "execution_count": null,
      "outputs": []
    }
  ]
}